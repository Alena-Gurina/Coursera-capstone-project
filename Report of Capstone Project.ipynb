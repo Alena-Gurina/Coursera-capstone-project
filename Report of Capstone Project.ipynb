{
    "nbformat_minor": 1, 
    "cells": [
        {
            "source": "# REPORT: Capstone Project - The Battle of Neighborhoods", 
            "cell_type": "markdown", 
            "metadata": {
                "collapsed": true
            }
        }, 
        {
            "source": "# Moscow and Saint Petersburg museums surroundings", 
            "cell_type": "markdown", 
            "metadata": {}
        }, 
        {
            "source": "### Made by Gurina Alena", 
            "cell_type": "markdown", 
            "metadata": {}
        }, 
        {
            "source": "## Introduction/Business Problem", 
            "cell_type": "markdown", 
            "metadata": {}
        }, 
        {
            "source": "For this work I choose 2 biggest cities of my native country: Russia. This cities are Saint Petersburg (SPb) and Moscow. For all my live I have heart about differences between this two cities. Sometimes It seems that SPb and Moscow are differ in all aspects. And people, who lived in SPb and Moscow also differs: we have various habbits, favorite places, and even named some things in different ways.", 
            "cell_type": "markdown", 
            "metadata": {}
        }, 
        {
            "source": "To tell the truth I would not like to compare cities wholly. Because all cities have \"Sleep districts\" and generally all of them are very common. It is much more interesting to compare centers of the cities, exactly Sights (showplace) surroundings - all that tourists can see then go to museums or view memorials", 
            "cell_type": "markdown", 
            "metadata": {}
        }, 
        {
            "source": "Business problem? It could be anything.\n1. When travel agencies make sightseeing tours, usually tourists have time to walk or have a lunch during tour - So choosing the best place for it - where each person could find something for whom taste and wallet\n2. Places near Sights are usually good gift shops, restaurants and many other places, so for Businessmens who want to open shop or smtg else it could be important to know place surroundings and compare different surroundings \n3. I know that many trading network from Moscow are failed to become successful in SPB and vice versa. But also There are some successful examples. And noone know about reasons of it. Comparison of centers of two cities could be useful for buisenessmens who successful in one city and want to expand theis buisness to another", 
            "cell_type": "markdown", 
            "metadata": {}
        }, 
        {
            "source": "## DATA", 
            "cell_type": "markdown", 
            "metadata": {}
        }, 
        {
            "source": "Really find information about Sights and its location is easy. Just ask google or another search sistem about Sights of cities and it give you million results. To colect all data together or find place, where will be all data we need - It is our task Fortunatly, on Foursquare we can find all we need, so I decided just ask it for search museums of SPb and Moscow", 
            "cell_type": "markdown", 
            "metadata": {}
        }, 
        {
            "source": "In Foursquare I make a search of 'museums' in each city, so I get data about 50 popular museums in center of each city", 
            "cell_type": "markdown", 
            "metadata": {}
        }, 
        {
            "source": "## Methods", 
            "cell_type": "markdown", 
            "metadata": {}
        }, 
        {
            "source": "Really I dont make any special. For general comparison of the city I just compare distribution of TOP 20 most frequently categories (using horisontal bar charts)\n\nI also use KNN (Key-Nearest Neighborhood) analysis for clustering museums surroundings in Moscow and Saint Petersburg separatly and together", 
            "cell_type": "markdown", 
            "metadata": {}
        }, 
        {
            "source": "## Results", 
            "cell_type": "markdown", 
            "metadata": {}
        }, 
        {
            "source": "I cant say that cities are on opposite sides. Of corse each city have Its own features, but overall differs are not so strong.", 
            "cell_type": "markdown", 
            "metadata": {}
        }, 
        {
            "source": "Both cities have its own stand out places, which create unique atmosphere\nBut also there are a few similarities: \n1. Coffee Shops are the most popular category in museums surrounding\n2.Some districts not very far from historical center are similar\n3.I can say that the most similar with Moscow -  SPb old comercial district\nHistorically SPb and Moscow developed different. So some categories which are very common in Moscow centre in SPb situated closer to the outskirts\n", 
            "cell_type": "markdown", 
            "metadata": {}
        }, 
        {
            "execution_count": null, 
            "cell_type": "code", 
            "metadata": {}, 
            "outputs": [], 
            "source": ""
        }
    ], 
    "metadata": {
        "kernelspec": {
            "display_name": "Python 3.5", 
            "name": "python3", 
            "language": "python"
        }, 
        "language_info": {
            "mimetype": "text/x-python", 
            "nbconvert_exporter": "python", 
            "version": "3.5.5", 
            "name": "python", 
            "file_extension": ".py", 
            "pygments_lexer": "ipython3", 
            "codemirror_mode": {
                "version": 3, 
                "name": "ipython"
            }
        }
    }, 
    "nbformat": 4
}