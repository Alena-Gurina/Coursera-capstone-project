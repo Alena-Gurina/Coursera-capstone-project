{
    "nbformat_minor": 1, 
    "cells": [
        {
            "source": "# Capstone Project - The Battle of Neighborhoods", 
            "cell_type": "markdown", 
            "metadata": {}
        }, 
        {
            "source": "## Introduction/Business Problem", 
            "cell_type": "markdown", 
            "metadata": {}
        }, 
        {
            "source": "For this work I choose 2 biggest cities of my native country: Russia. This cities are Saint Petersburg (SPb) and Moscow. For all my live I have heart about differences between this two cities. Sometimes It seems that SPb and Moscow are differ in all aspects. And people, who lived in SPb and Moscow also differs: we have various habbits, favorite places, and even named some things in different ways. ", 
            "cell_type": "markdown", 
            "metadata": {}
        }, 
        {
            "source": "To tell the truth I would not like to compare cities wholly. Because all cities have \"Sleep districts\" and generally all of them are very common. It is much more interesting to compare centers of the cities, exactly Sights (showplace) surroundings - all that tourists can see then go to museums or view memorials", 
            "cell_type": "markdown", 
            "metadata": {}
        }, 
        {
            "source": "Business problem? It could be anything.\n1 When travel agencies make sightseeing tours, usually tourists have time to walk or have a lunch during tour - So choosing the best place for it - where each person could find something for whom taste and wallet\n2 Places near Sights are usually good gift shops, restaurants and many other places, so for Businessmens who want to open shop or smtg else it could be important to know place surroundings and compare different surroundings\n3 I know that many trading network from Moscow are failed to become successful in SPB and vice versa. But also There are some successful examples. And noone know about reasons of it. Comparison of centers of two cities could be useful for buisenessmens who successful in one city and want to expand theis buisness to another", 
            "cell_type": "markdown", 
            "metadata": {}
        }, 
        {
            "source": "## Data", 
            "cell_type": "markdown", 
            "metadata": {}
        }, 
        {
            "source": "Really find information about Sights and its location is easy. Just ask google or another search sistem about Sights of cities and it give you million results. To coolect all data together or find place, where will be all data we need - It is our task\nFortunatly, on Foursquare we can find all we need, so I decided just ask it for search museums of SPb and Moscow", 
            "cell_type": "markdown", 
            "metadata": {}
        }, 
        {
            "execution_count": 1, 
            "cell_type": "code", 
            "metadata": {}, 
            "outputs": [
                {
                    "output_type": "stream", 
                    "name": "stdout", 
                    "text": "Fetching package metadata .............\nSolving package specifications: .\n\n# All requested packages already installed.\n# packages in environment at /opt/conda/envs/DSX-Python35:\n#\nfolium                    0.5.0                      py_0    conda-forge\nLibraries imported.\n"
                }
            ], 
            "source": "import numpy as np # library to handle data in a vectorized manner\nimport pandas as pd # library for data analsysis\npd.set_option('display.max_columns', None)\npd.set_option('display.max_rows', None)\nimport json # library to handle JSON files\n#!conda install -c conda-forge geopy --yes # uncomment this line if you haven't completed the Foursquare API lab\nfrom geopy.geocoders import Nominatim # convert an address into latitude and longitude values\n\nimport requests # library to handle requests\nfrom pandas.io.json import json_normalize # tranform JSON file into a pandas dataframe\n\n# Matplotlib and associated plotting modules\nimport matplotlib.cm as cm\nimport matplotlib.colors as colors\n\n# import k-means from clustering stage\nfrom sklearn.cluster import KMeans\n\n!conda install -c conda-forge folium=0.5.0 --yes # uncomment this line if you haven't completed the Foursquare API lab\nimport folium # map rendering library\n\nprint('Libraries imported.')"
        }, 
        {
            "execution_count": 2, 
            "cell_type": "code", 
            "metadata": {}, 
            "outputs": [], 
            "source": "# The code was removed by Watson Studio for sharing."
        }, 
        {
            "execution_count": 3, 
            "cell_type": "code", 
            "metadata": {}, 
            "outputs": [
                {
                    "output_type": "stream", 
                    "name": "stdout", 
                    "text": "59.938732 30.316229\n"
                }
            ], 
            "source": "address_spb = 'Saint-Petersburg'\n\ngeolocator = Nominatim(user_agent=\"foursquare_agent\")\nlocation_spb = geolocator.geocode(address_spb)\nlatitude_spb = location_spb.latitude\nlongitude_spb = location_spb.longitude\nprint(latitude_spb, longitude_spb)"
        }, 
        {
            "execution_count": 4, 
            "cell_type": "code", 
            "metadata": {}, 
            "outputs": [
                {
                    "output_type": "stream", 
                    "name": "stdout", 
                    "text": "Museum .... OK!\n"
                }
            ], 
            "source": "museum_spb = 'Museum'\nradius = 5000\nprint(museum_spb + ' .... OK!')"
        }, 
        {
            "execution_count": 15, 
            "cell_type": "code", 
            "metadata": {}, 
            "outputs": [], 
            "source": "LIMIT = 100 # limit of number of venues returned by Foursquare API\nradius = 5000 # define radius"
        }, 
        {
            "execution_count": 16, 
            "cell_type": "code", 
            "metadata": {}, 
            "outputs": [], 
            "source": "url_spb = 'https://api.foursquare.com/v2/venues/search?client_id={}&client_secret={}&ll={},{}&v={}&query={}&radius={}&limit={}'.format(CLIENT_ID, CLIENT_SECRET, latitude_spb, longitude_spb, VERSION, museum_spb, radius, LIMIT)\nresults_spb = requests.get(url_spb).json()"
        }, 
        {
            "execution_count": 17, 
            "cell_type": "code", 
            "metadata": {}, 
            "outputs": [
                {
                    "execution_count": 17, 
                    "metadata": {}, 
                    "data": {
                        "text/html": "<div>\n<style scoped>\n    .dataframe tbody tr th:only-of-type {\n        vertical-align: middle;\n    }\n\n    .dataframe tbody tr th {\n        vertical-align: top;\n    }\n\n    .dataframe thead th {\n        text-align: right;\n    }\n</style>\n<table border=\"1\" class=\"dataframe\">\n  <thead>\n    <tr style=\"text-align: right;\">\n      <th></th>\n      <th>name</th>\n      <th>categories</th>\n      <th>address</th>\n      <th>cc</th>\n      <th>city</th>\n      <th>country</th>\n      <th>crossStreet</th>\n      <th>distance</th>\n      <th>formattedAddress</th>\n      <th>labeledLatLngs</th>\n      <th>lat</th>\n      <th>lng</th>\n      <th>neighborhood</th>\n      <th>postalCode</th>\n      <th>state</th>\n      <th>id</th>\n    </tr>\n  </thead>\n  <tbody>\n    <tr>\n      <th>0</th>\n      <td>Hermitage Museum (\u0413\u043e\u0441\u0443\u0434\u0430\u0440\u0441\u0442\u0432\u0435\u043d\u043d\u044b\u0439 \u042d\u0440\u043c\u0438\u0442\u0430\u0436)</td>\n      <td>Art Museum</td>\n      <td>\u0414\u0432\u043e\u0440\u0446\u043e\u0432\u0430\u044f \u043d\u0430\u0431., 34</td>\n      <td>RU</td>\n      <td>\u0421\u0430\u043d\u043a\u0442-\u041f\u0435\u0442\u0435\u0440\u0431\u0443\u0440\u0433</td>\n      <td>\u0420\u043e\u0441\u0441\u0438\u044f</td>\n      <td>\u0414\u0432\u043e\u0440\u0446\u043e\u0432\u0430\u044f \u043f\u043b.</td>\n      <td>305</td>\n      <td>[\u0414\u0432\u043e\u0440\u0446\u043e\u0432\u0430\u044f \u043d\u0430\u0431., 34 (\u0414\u0432\u043e\u0440\u0446\u043e\u0432\u0430\u044f \u043f\u043b.), 191186, \u0421...</td>\n      <td>[{'lng': 30.313721, 'lat': 59.941173, 'label':...</td>\n      <td>59.941173</td>\n      <td>30.313721</td>\n      <td>NaN</td>\n      <td>191186</td>\n      <td>\u0421\u0430\u043d\u043a\u0442-\u041f\u0435\u0442\u0435\u0440\u0431\u0443\u0440\u0433</td>\n      <td>4d9abff1422ea1cd52d9ec4c</td>\n    </tr>\n    <tr>\n      <th>1</th>\n      <td>Russian Museum (\u0420\u0443\u0441\u0441\u043a\u0438\u0439 \u043c\u0443\u0437\u0435\u0439)</td>\n      <td>Art Museum</td>\n      <td>\u0418\u043d\u0436\u0435\u043d\u0435\u0440\u043d\u0430\u044f \u0443\u043b., 4</td>\n      <td>RU</td>\n      <td>\u0421\u0430\u043d\u043a\u0442-\u041f\u0435\u0442\u0435\u0440\u0431\u0443\u0440\u0433</td>\n      <td>\u0420\u043e\u0441\u0441\u0438\u044f</td>\n      <td>NaN</td>\n      <td>897</td>\n      <td>[\u0418\u043d\u0436\u0435\u043d\u0435\u0440\u043d\u0430\u044f \u0443\u043b., 4, 191011, \u0421\u0430\u043d\u043a\u0442-\u041f\u0435\u0442\u0435\u0440\u0431\u0443\u0440\u0433, \u0420...</td>\n      <td>[{'lng': 30.332318544387817, 'lat': 59.9387170...</td>\n      <td>59.938717</td>\n      <td>30.332319</td>\n      <td>NaN</td>\n      <td>191011</td>\n      <td>\u0421\u0430\u043d\u043a\u0442-\u041f\u0435\u0442\u0435\u0440\u0431\u0443\u0440\u0433</td>\n      <td>4bbc64cd51b89c742155872a</td>\n    </tr>\n    <tr>\n      <th>2</th>\n      <td>Museum of Soviet Arcade Machines (\u041c\u0443\u0437\u0435\u0439 \u0441\u043e\u0432\u0435\u0442\u0441...</td>\n      <td>Arcade</td>\n      <td>\u041a\u043e\u043d\u044e\u0448\u0435\u043d\u043d\u0430\u044f \u043f\u043b., 2, \u043b\u0438\u0442. \u0412</td>\n      <td>RU</td>\n      <td>\u0421\u0430\u043d\u043a\u0442-\u041f\u0435\u0442\u0435\u0440\u0431\u0443\u0440\u0433</td>\n      <td>\u0420\u043e\u0441\u0441\u0438\u044f</td>\n      <td>NaN</td>\n      <td>619</td>\n      <td>[\u041a\u043e\u043d\u044e\u0448\u0435\u043d\u043d\u0430\u044f \u043f\u043b., 2, \u043b\u0438\u0442. \u0412, \u0421\u0430\u043d\u043a\u0442-\u041f\u0435\u0442\u0435\u0440\u0431\u0443\u0440\u0433, \u0420...</td>\n      <td>[{'lng': 30.326908298632507, 'lat': 59.9402810...</td>\n      <td>59.940281</td>\n      <td>30.326908</td>\n      <td>NaN</td>\n      <td>NaN</td>\n      <td>\u0421\u0430\u043d\u043a\u0442-\u041f\u0435\u0442\u0435\u0440\u0431\u0443\u0440\u0433</td>\n      <td>519690dd498e82098f5f0701</td>\n    </tr>\n    <tr>\n      <th>3</th>\n      <td>Russian Museum (Benois Wing) (\u0420\u0443\u0441\u0441\u043a\u0438\u0439 \u043c\u0443\u0437\u0435\u0439 (\u041a...</td>\n      <td>Art Gallery</td>\n      <td>\u043d\u0430\u0431. \u041a\u0430\u043d\u0430\u043b\u0430 \u0413\u0440\u0438\u0431\u043e\u0435\u0434\u043e\u0432\u0430, 2</td>\n      <td>RU</td>\n      <td>\u0421\u0430\u043d\u043a\u0442-\u041f\u0435\u0442\u0435\u0440\u0431\u0443\u0440\u0433</td>\n      <td>\u0420\u043e\u0441\u0441\u0438\u044f</td>\n      <td>\u0418\u043d\u0436\u0435\u043d\u0435\u0440\u043d\u0430\u044f \u0443\u043b.</td>\n      <td>703</td>\n      <td>[\u043d\u0430\u0431. \u041a\u0430\u043d\u0430\u043b\u0430 \u0413\u0440\u0438\u0431\u043e\u0435\u0434\u043e\u0432\u0430, 2 (\u0418\u043d\u0436\u0435\u043d\u0435\u0440\u043d\u0430\u044f \u0443\u043b.), 1...</td>\n      <td>[{'lng': 30.328853130340576, 'lat': 59.9386611...</td>\n      <td>59.938661</td>\n      <td>30.328853</td>\n      <td>NaN</td>\n      <td>191011</td>\n      <td>\u0421\u0430\u043d\u043a\u0442-\u041f\u0435\u0442\u0435\u0440\u0431\u0443\u0440\u0433</td>\n      <td>4dbd3e31fa8cee727361cfae</td>\n    </tr>\n    <tr>\n      <th>4</th>\n      <td>Faberg\u00e9 Museum (\u041c\u0443\u0437\u0435\u0439 \u0424\u0430\u0431\u0435\u0440\u0436\u0435)</td>\n      <td>Art Museum</td>\n      <td>\u043d\u0430\u0431. \u0440\u0435\u043a\u0438 \u0424\u043e\u043d\u0442\u0430\u043d\u043a\u0438, 21</td>\n      <td>RU</td>\n      <td>\u0421\u0430\u043d\u043a\u0442-\u041f\u0435\u0442\u0435\u0440\u0431\u0443\u0440\u0433</td>\n      <td>\u0420\u043e\u0441\u0441\u0438\u044f</td>\n      <td>NaN</td>\n      <td>1563</td>\n      <td>[\u043d\u0430\u0431. \u0440\u0435\u043a\u0438 \u0424\u043e\u043d\u0442\u0430\u043d\u043a\u0438, 21, 191023, \u0421\u0430\u043d\u043a\u0442-\u041f\u0435\u0442\u0435\u0440\u0431\u0443...</td>\n      <td>[{'lng': 30.34313856863994, 'lat': 59.93480234...</td>\n      <td>59.934802</td>\n      <td>30.343139</td>\n      <td>NaN</td>\n      <td>191023</td>\n      <td>\u0421\u0430\u043d\u043a\u0442-\u041f\u0435\u0442\u0435\u0440\u0431\u0443\u0440\u0433</td>\n      <td>528b1a9611d20cbd10276bb2</td>\n    </tr>\n  </tbody>\n</table>\n</div>", 
                        "text/plain": "                                                name   categories  \\\n0         Hermitage Museum (\u0413\u043e\u0441\u0443\u0434\u0430\u0440\u0441\u0442\u0432\u0435\u043d\u043d\u044b\u0439 \u042d\u0440\u043c\u0438\u0442\u0430\u0436)   Art Museum   \n1                     Russian Museum (\u0420\u0443\u0441\u0441\u043a\u0438\u0439 \u043c\u0443\u0437\u0435\u0439)   Art Museum   \n2  Museum of Soviet Arcade Machines (\u041c\u0443\u0437\u0435\u0439 \u0441\u043e\u0432\u0435\u0442\u0441...       Arcade   \n3  Russian Museum (Benois Wing) (\u0420\u0443\u0441\u0441\u043a\u0438\u0439 \u043c\u0443\u0437\u0435\u0439 (\u041a...  Art Gallery   \n4                     Faberg\u00e9 Museum (\u041c\u0443\u0437\u0435\u0439 \u0424\u0430\u0431\u0435\u0440\u0436\u0435)   Art Museum   \n\n                     address  cc             city country     crossStreet  \\\n0         \u0414\u0432\u043e\u0440\u0446\u043e\u0432\u0430\u044f \u043d\u0430\u0431., 34  RU  \u0421\u0430\u043d\u043a\u0442-\u041f\u0435\u0442\u0435\u0440\u0431\u0443\u0440\u0433  \u0420\u043e\u0441\u0441\u0438\u044f   \u0414\u0432\u043e\u0440\u0446\u043e\u0432\u0430\u044f \u043f\u043b.   \n1          \u0418\u043d\u0436\u0435\u043d\u0435\u0440\u043d\u0430\u044f \u0443\u043b., 4  RU  \u0421\u0430\u043d\u043a\u0442-\u041f\u0435\u0442\u0435\u0440\u0431\u0443\u0440\u0433  \u0420\u043e\u0441\u0441\u0438\u044f             NaN   \n2  \u041a\u043e\u043d\u044e\u0448\u0435\u043d\u043d\u0430\u044f \u043f\u043b., 2, \u043b\u0438\u0442. \u0412  RU  \u0421\u0430\u043d\u043a\u0442-\u041f\u0435\u0442\u0435\u0440\u0431\u0443\u0440\u0433  \u0420\u043e\u0441\u0441\u0438\u044f             NaN   \n3  \u043d\u0430\u0431. \u041a\u0430\u043d\u0430\u043b\u0430 \u0413\u0440\u0438\u0431\u043e\u0435\u0434\u043e\u0432\u0430, 2  RU  \u0421\u0430\u043d\u043a\u0442-\u041f\u0435\u0442\u0435\u0440\u0431\u0443\u0440\u0433  \u0420\u043e\u0441\u0441\u0438\u044f  \u0418\u043d\u0436\u0435\u043d\u0435\u0440\u043d\u0430\u044f \u0443\u043b.   \n4     \u043d\u0430\u0431. \u0440\u0435\u043a\u0438 \u0424\u043e\u043d\u0442\u0430\u043d\u043a\u0438, 21  RU  \u0421\u0430\u043d\u043a\u0442-\u041f\u0435\u0442\u0435\u0440\u0431\u0443\u0440\u0433  \u0420\u043e\u0441\u0441\u0438\u044f             NaN   \n\n   distance                                   formattedAddress  \\\n0       305  [\u0414\u0432\u043e\u0440\u0446\u043e\u0432\u0430\u044f \u043d\u0430\u0431., 34 (\u0414\u0432\u043e\u0440\u0446\u043e\u0432\u0430\u044f \u043f\u043b.), 191186, \u0421...   \n1       897  [\u0418\u043d\u0436\u0435\u043d\u0435\u0440\u043d\u0430\u044f \u0443\u043b., 4, 191011, \u0421\u0430\u043d\u043a\u0442-\u041f\u0435\u0442\u0435\u0440\u0431\u0443\u0440\u0433, \u0420...   \n2       619  [\u041a\u043e\u043d\u044e\u0448\u0435\u043d\u043d\u0430\u044f \u043f\u043b., 2, \u043b\u0438\u0442. \u0412, \u0421\u0430\u043d\u043a\u0442-\u041f\u0435\u0442\u0435\u0440\u0431\u0443\u0440\u0433, \u0420...   \n3       703  [\u043d\u0430\u0431. \u041a\u0430\u043d\u0430\u043b\u0430 \u0413\u0440\u0438\u0431\u043e\u0435\u0434\u043e\u0432\u0430, 2 (\u0418\u043d\u0436\u0435\u043d\u0435\u0440\u043d\u0430\u044f \u0443\u043b.), 1...   \n4      1563  [\u043d\u0430\u0431. \u0440\u0435\u043a\u0438 \u0424\u043e\u043d\u0442\u0430\u043d\u043a\u0438, 21, 191023, \u0421\u0430\u043d\u043a\u0442-\u041f\u0435\u0442\u0435\u0440\u0431\u0443...   \n\n                                      labeledLatLngs        lat        lng  \\\n0  [{'lng': 30.313721, 'lat': 59.941173, 'label':...  59.941173  30.313721   \n1  [{'lng': 30.332318544387817, 'lat': 59.9387170...  59.938717  30.332319   \n2  [{'lng': 30.326908298632507, 'lat': 59.9402810...  59.940281  30.326908   \n3  [{'lng': 30.328853130340576, 'lat': 59.9386611...  59.938661  30.328853   \n4  [{'lng': 30.34313856863994, 'lat': 59.93480234...  59.934802  30.343139   \n\n  neighborhood postalCode            state                        id  \n0          NaN     191186  \u0421\u0430\u043d\u043a\u0442-\u041f\u0435\u0442\u0435\u0440\u0431\u0443\u0440\u0433  4d9abff1422ea1cd52d9ec4c  \n1          NaN     191011  \u0421\u0430\u043d\u043a\u0442-\u041f\u0435\u0442\u0435\u0440\u0431\u0443\u0440\u0433  4bbc64cd51b89c742155872a  \n2          NaN        NaN  \u0421\u0430\u043d\u043a\u0442-\u041f\u0435\u0442\u0435\u0440\u0431\u0443\u0440\u0433  519690dd498e82098f5f0701  \n3          NaN     191011  \u0421\u0430\u043d\u043a\u0442-\u041f\u0435\u0442\u0435\u0440\u0431\u0443\u0440\u0433  4dbd3e31fa8cee727361cfae  \n4          NaN     191023  \u0421\u0430\u043d\u043a\u0442-\u041f\u0435\u0442\u0435\u0440\u0431\u0443\u0440\u0433  528b1a9611d20cbd10276bb2  "
                    }, 
                    "output_type": "execute_result"
                }
            ], 
            "source": "# assign relevant part of JSON to venues\nvenues_spb = results_spb['response']['venues']\n\n# tranform venues into a dataframe\ndf_spb = json_normalize(venues_spb)\n# keep only columns that include venue name, and anything that is associated with location\nfiltered_columns = ['name', 'categories'] + [col for col in df_spb.columns if col.startswith('location.')] + ['id']\ndf_spb_filtered = df_spb.loc[:, filtered_columns]\n\n# function that extracts the category of the venue\ndef get_category_type(row):\n    try:\n        categories_list = row['categories']\n    except:\n        categories_list = row['venue.categories']\n        \n    if len(categories_list) == 0:\n        return None\n    else:\n        return categories_list[0]['name']\n\n# filter the category for each row\ndf_spb_filtered['categories'] = df_spb_filtered.apply(get_category_type, axis=1)\n\n# clean column names by keeping only last term\ndf_spb_filtered.columns = [column.split('.')[-1] for column in df_spb_filtered.columns]\ndf_spb_filtered.head()"
        }, 
        {
            "execution_count": 18, 
            "cell_type": "code", 
            "metadata": {}, 
            "outputs": [
                {
                    "execution_count": 18, 
                    "metadata": {}, 
                    "data": {
                        "text/plain": "(50, 16)"
                    }, 
                    "output_type": "execute_result"
                }
            ], 
            "source": "df_spb_filtered.shape"
        }, 
        {
            "source": "So we have location of 50 museums in SPb\nand now lets make all the same for Moscow", 
            "cell_type": "markdown", 
            "metadata": {}
        }, 
        {
            "execution_count": 10, 
            "cell_type": "code", 
            "metadata": {}, 
            "outputs": [
                {
                    "output_type": "stream", 
                    "name": "stdout", 
                    "text": "55.7504461 37.6174943\n"
                }
            ], 
            "source": "address_msc = 'Moscow'\n\ngeolocator = Nominatim(user_agent=\"foursquare_agent\")\nlocation_msc = geolocator.geocode(address_msc)\nlatitude_msc = location_msc.latitude\nlongitude_msc = location_msc.longitude\nprint(latitude_msc, longitude_msc)"
        }, 
        {
            "execution_count": 11, 
            "cell_type": "code", 
            "metadata": {}, 
            "outputs": [
                {
                    "output_type": "stream", 
                    "name": "stdout", 
                    "text": "Museum .... OK!\n"
                }
            ], 
            "source": "museum_msc = 'Museum'\nprint(museum_spb + ' .... OK!')"
        }, 
        {
            "execution_count": 12, 
            "cell_type": "code", 
            "metadata": {}, 
            "outputs": [], 
            "source": "url_msc = 'https://api.foursquare.com/v2/venues/search?client_id={}&client_secret={}&ll={},{}&v={}&query={}&radius={}&limit={}'.format(CLIENT_ID, CLIENT_SECRET, latitude_msc, longitude_msc, VERSION, museum_msc, radius, LIMIT)\nresults_msc = requests.get(url_msc).json()"
        }, 
        {
            "execution_count": 13, 
            "cell_type": "code", 
            "metadata": {}, 
            "outputs": [
                {
                    "execution_count": 13, 
                    "metadata": {}, 
                    "data": {
                        "text/html": "<div>\n<style scoped>\n    .dataframe tbody tr th:only-of-type {\n        vertical-align: middle;\n    }\n\n    .dataframe tbody tr th {\n        vertical-align: top;\n    }\n\n    .dataframe thead th {\n        text-align: right;\n    }\n</style>\n<table border=\"1\" class=\"dataframe\">\n  <thead>\n    <tr style=\"text-align: right;\">\n      <th></th>\n      <th>name</th>\n      <th>categories</th>\n      <th>address</th>\n      <th>cc</th>\n      <th>city</th>\n      <th>country</th>\n      <th>crossStreet</th>\n      <th>distance</th>\n      <th>formattedAddress</th>\n      <th>labeledLatLngs</th>\n      <th>lat</th>\n      <th>lng</th>\n      <th>neighborhood</th>\n      <th>postalCode</th>\n      <th>state</th>\n      <th>id</th>\n    </tr>\n  </thead>\n  <tbody>\n    <tr>\n      <th>0</th>\n      <td>The Pushkin State Museum of Fine Arts (\u0413\u043e\u0441\u0443\u0434\u0430\u0440...</td>\n      <td>Art Museum</td>\n      <td>\u0443\u043b. \u0412\u043e\u043b\u0445\u043e\u043d\u043a\u0430, 12</td>\n      <td>RU</td>\n      <td>\u041c\u043e\u0441\u043a\u0432\u0430</td>\n      <td>\u0420\u043e\u0441\u0441\u0438\u044f</td>\n      <td>\u041a\u043e\u043b\u044b\u043c\u0430\u0436\u043d\u044b\u0439 \u043f\u0435\u0440.</td>\n      <td>832</td>\n      <td>[\u0443\u043b. \u0412\u043e\u043b\u0445\u043e\u043d\u043a\u0430, 12 (\u041a\u043e\u043b\u044b\u043c\u0430\u0436\u043d\u044b\u0439 \u043f\u0435\u0440.), 119019, \u041c...</td>\n      <td>[{'lng': 37.60548934223968, 'lat': 55.74723790...</td>\n      <td>55.747238</td>\n      <td>37.605489</td>\n      <td>NaN</td>\n      <td>119019</td>\n      <td>\u041c\u043e\u0441\u043a\u0432\u0430</td>\n      <td>4b5ac73cf964a52037d428e3</td>\n    </tr>\n    <tr>\n      <th>1</th>\n      <td>The State Historical Museum (\u0413\u043e\u0441\u0443\u0434\u0430\u0440\u0441\u0442\u0432\u0435\u043d\u043d\u044b\u0439 \u0438...</td>\n      <td>History Museum</td>\n      <td>\u041a\u0440\u0430\u0441\u043d\u0430\u044f \u043f\u043b., 1</td>\n      <td>RU</td>\n      <td>\u041c\u043e\u0441\u043a\u0432\u0430</td>\n      <td>\u0420\u043e\u0441\u0441\u0438\u044f</td>\n      <td>\u043f\u0440. \u0412\u043e\u0441\u043a\u0440\u0435\u0441\u0435\u043d\u0441\u043a\u0438\u0435 \u0412\u043e\u0440\u043e\u0442\u0430</td>\n      <td>544</td>\n      <td>[\u041a\u0440\u0430\u0441\u043d\u0430\u044f \u043f\u043b., 1 (\u043f\u0440. \u0412\u043e\u0441\u043a\u0440\u0435\u0441\u0435\u043d\u0441\u043a\u0438\u0435 \u0412\u043e\u0440\u043e\u0442\u0430), 10...</td>\n      <td>[{'lng': 37.61776685714721, 'lat': 55.75533068...</td>\n      <td>55.755331</td>\n      <td>37.617767</td>\n      <td>\u041a\u0440\u0430\u0441\u043d\u0430\u044f \u043f\u043b\u043e\u0449\u0430\u0434\u044c</td>\n      <td>109012</td>\n      <td>\u041c\u043e\u0441\u043a\u0432\u0430</td>\n      <td>4ba4b8def964a52024af38e3</td>\n    </tr>\n    <tr>\n      <th>2</th>\n      <td>Moscow Museum of Modern Art (\u041c\u043e\u0441\u043a\u043e\u0432\u0441\u043a\u0438\u0439 \u043c\u0443\u0437\u0435\u0439 ...</td>\n      <td>Art Museum</td>\n      <td>\u0413\u043e\u0433\u043e\u043b\u0435\u0432\u0441\u043a\u0438\u0439 \u0431\u0443\u043b., 10</td>\n      <td>RU</td>\n      <td>\u041c\u043e\u0441\u043a\u0432\u0430</td>\n      <td>\u0420\u043e\u0441\u0441\u0438\u044f</td>\n      <td>NaN</td>\n      <td>1148</td>\n      <td>[\u0413\u043e\u0433\u043e\u043b\u0435\u0432\u0441\u043a\u0438\u0439 \u0431\u0443\u043b., 10, 119019, \u041c\u043e\u0441\u043a\u0432\u0430, \u0420\u043e\u0441\u0441\u0438\u044f]</td>\n      <td>[{'lng': 37.60026276111603, 'lat': 55.74693418...</td>\n      <td>55.746934</td>\n      <td>37.600263</td>\n      <td>NaN</td>\n      <td>119019</td>\n      <td>\u041c\u043e\u0441\u043a\u0432\u0430</td>\n      <td>4baf14b5f964a52049ea3be3</td>\n    </tr>\n    <tr>\n      <th>3</th>\n      <td>Moscow Museum of Modern Art (\u041c\u043e\u0441\u043a\u043e\u0432\u0441\u043a\u0438\u0439 \u043c\u0443\u0437\u0435\u0439 ...</td>\n      <td>Art Museum</td>\n      <td>\u0443\u043b. \u041f\u0435\u0442\u0440\u043e\u0432\u043a\u0430, 25</td>\n      <td>RU</td>\n      <td>\u041c\u043e\u0441\u043a\u0432\u0430</td>\n      <td>\u0420\u043e\u0441\u0441\u0438\u044f</td>\n      <td>NaN</td>\n      <td>1874</td>\n      <td>[\u0443\u043b. \u041f\u0435\u0442\u0440\u043e\u0432\u043a\u0430, 25, 107031, \u041c\u043e\u0441\u043a\u0432\u0430, \u0420\u043e\u0441\u0441\u0438\u044f]</td>\n      <td>[{'lng': 37.61395114204806, 'lat': 55.76716254...</td>\n      <td>55.767163</td>\n      <td>37.613951</td>\n      <td>NaN</td>\n      <td>107031</td>\n      <td>\u041c\u043e\u0441\u043a\u0432\u0430</td>\n      <td>4beec007e8c3c928bb0e9992</td>\n    </tr>\n    <tr>\n      <th>4</th>\n      <td>Garage Museum of Contemporary Art (\u041c\u0443\u0437\u0435\u0439 \u0441\u043e\u0432\u0440\u0435...</td>\n      <td>Art Museum</td>\n      <td>\u0426\u041f\u041a\u0438\u041e \u0438\u043c. \u0413\u043e\u0440\u044c\u043a\u043e\u0433\u043e</td>\n      <td>RU</td>\n      <td>\u041c\u043e\u0441\u043a\u0432\u0430</td>\n      <td>\u0420\u043e\u0441\u0441\u0438\u044f</td>\n      <td>\u0443\u043b. \u041a\u0440\u044b\u043c\u0441\u043a\u0438\u0439 \u0412\u0430\u043b, 9, \u0441\u0442\u0440. 32</td>\n      <td>2716</td>\n      <td>[\u0426\u041f\u041a\u0438\u041e \u0438\u043c. \u0413\u043e\u0440\u044c\u043a\u043e\u0433\u043e (\u0443\u043b. \u041a\u0440\u044b\u043c\u0441\u043a\u0438\u0439 \u0412\u0430\u043b, 9, \u0441\u0442\u0440....</td>\n      <td>[{'lng': 37.60160618970004, 'lat': 55.72774207...</td>\n      <td>55.727742</td>\n      <td>37.601606</td>\n      <td>NaN</td>\n      <td>119049</td>\n      <td>\u041c\u043e\u0441\u043a\u0432\u0430</td>\n      <td>4d624fdb29105941fffc0847</td>\n    </tr>\n  </tbody>\n</table>\n</div>", 
                        "text/plain": "                                                name      categories  \\\n0  The Pushkin State Museum of Fine Arts (\u0413\u043e\u0441\u0443\u0434\u0430\u0440...      Art Museum   \n1  The State Historical Museum (\u0413\u043e\u0441\u0443\u0434\u0430\u0440\u0441\u0442\u0432\u0435\u043d\u043d\u044b\u0439 \u0438...  History Museum   \n2  Moscow Museum of Modern Art (\u041c\u043e\u0441\u043a\u043e\u0432\u0441\u043a\u0438\u0439 \u043c\u0443\u0437\u0435\u0439 ...      Art Museum   \n3  Moscow Museum of Modern Art (\u041c\u043e\u0441\u043a\u043e\u0432\u0441\u043a\u0438\u0439 \u043c\u0443\u0437\u0435\u0439 ...      Art Museum   \n4  Garage Museum of Contemporary Art (\u041c\u0443\u0437\u0435\u0439 \u0441\u043e\u0432\u0440\u0435...      Art Museum   \n\n                address  cc    city country                   crossStreet  \\\n0      \u0443\u043b. \u0412\u043e\u043b\u0445\u043e\u043d\u043a\u0430, 12  RU  \u041c\u043e\u0441\u043a\u0432\u0430  \u0420\u043e\u0441\u0441\u0438\u044f               \u041a\u043e\u043b\u044b\u043c\u0430\u0436\u043d\u044b\u0439 \u043f\u0435\u0440.   \n1        \u041a\u0440\u0430\u0441\u043d\u0430\u044f \u043f\u043b., 1  RU  \u041c\u043e\u0441\u043a\u0432\u0430  \u0420\u043e\u0441\u0441\u0438\u044f      \u043f\u0440. \u0412\u043e\u0441\u043a\u0440\u0435\u0441\u0435\u043d\u0441\u043a\u0438\u0435 \u0412\u043e\u0440\u043e\u0442\u0430   \n2  \u0413\u043e\u0433\u043e\u043b\u0435\u0432\u0441\u043a\u0438\u0439 \u0431\u0443\u043b., 10  RU  \u041c\u043e\u0441\u043a\u0432\u0430  \u0420\u043e\u0441\u0441\u0438\u044f                           NaN   \n3      \u0443\u043b. \u041f\u0435\u0442\u0440\u043e\u0432\u043a\u0430, 25  RU  \u041c\u043e\u0441\u043a\u0432\u0430  \u0420\u043e\u0441\u0441\u0438\u044f                           NaN   \n4    \u0426\u041f\u041a\u0438\u041e \u0438\u043c. \u0413\u043e\u0440\u044c\u043a\u043e\u0433\u043e  RU  \u041c\u043e\u0441\u043a\u0432\u0430  \u0420\u043e\u0441\u0441\u0438\u044f  \u0443\u043b. \u041a\u0440\u044b\u043c\u0441\u043a\u0438\u0439 \u0412\u0430\u043b, 9, \u0441\u0442\u0440. 32   \n\n   distance                                   formattedAddress  \\\n0       832  [\u0443\u043b. \u0412\u043e\u043b\u0445\u043e\u043d\u043a\u0430, 12 (\u041a\u043e\u043b\u044b\u043c\u0430\u0436\u043d\u044b\u0439 \u043f\u0435\u0440.), 119019, \u041c...   \n1       544  [\u041a\u0440\u0430\u0441\u043d\u0430\u044f \u043f\u043b., 1 (\u043f\u0440. \u0412\u043e\u0441\u043a\u0440\u0435\u0441\u0435\u043d\u0441\u043a\u0438\u0435 \u0412\u043e\u0440\u043e\u0442\u0430), 10...   \n2      1148     [\u0413\u043e\u0433\u043e\u043b\u0435\u0432\u0441\u043a\u0438\u0439 \u0431\u0443\u043b., 10, 119019, \u041c\u043e\u0441\u043a\u0432\u0430, \u0420\u043e\u0441\u0441\u0438\u044f]   \n3      1874         [\u0443\u043b. \u041f\u0435\u0442\u0440\u043e\u0432\u043a\u0430, 25, 107031, \u041c\u043e\u0441\u043a\u0432\u0430, \u0420\u043e\u0441\u0441\u0438\u044f]   \n4      2716  [\u0426\u041f\u041a\u0438\u041e \u0438\u043c. \u0413\u043e\u0440\u044c\u043a\u043e\u0433\u043e (\u0443\u043b. \u041a\u0440\u044b\u043c\u0441\u043a\u0438\u0439 \u0412\u0430\u043b, 9, \u0441\u0442\u0440....   \n\n                                      labeledLatLngs        lat        lng  \\\n0  [{'lng': 37.60548934223968, 'lat': 55.74723790...  55.747238  37.605489   \n1  [{'lng': 37.61776685714721, 'lat': 55.75533068...  55.755331  37.617767   \n2  [{'lng': 37.60026276111603, 'lat': 55.74693418...  55.746934  37.600263   \n3  [{'lng': 37.61395114204806, 'lat': 55.76716254...  55.767163  37.613951   \n4  [{'lng': 37.60160618970004, 'lat': 55.72774207...  55.727742  37.601606   \n\n      neighborhood postalCode   state                        id  \n0              NaN     119019  \u041c\u043e\u0441\u043a\u0432\u0430  4b5ac73cf964a52037d428e3  \n1  \u041a\u0440\u0430\u0441\u043d\u0430\u044f \u043f\u043b\u043e\u0449\u0430\u0434\u044c     109012  \u041c\u043e\u0441\u043a\u0432\u0430  4ba4b8def964a52024af38e3  \n2              NaN     119019  \u041c\u043e\u0441\u043a\u0432\u0430  4baf14b5f964a52049ea3be3  \n3              NaN     107031  \u041c\u043e\u0441\u043a\u0432\u0430  4beec007e8c3c928bb0e9992  \n4              NaN     119049  \u041c\u043e\u0441\u043a\u0432\u0430  4d624fdb29105941fffc0847  "
                    }, 
                    "output_type": "execute_result"
                }
            ], 
            "source": "# assign relevant part of JSON to venues\nvenues_msc = results_msc['response']['venues']\n\n# tranform venues into a dataframe\ndf_msc = json_normalize(venues_msc)\n# keep only columns that include venue name, and anything that is associated with location\nfiltered_columns = ['name', 'categories'] + [col for col in df_spb.columns if col.startswith('location.')] + ['id']\ndf_msc_filtered = df_msc.loc[:, filtered_columns]\n\n# filter the category for each row\ndf_msc_filtered['categories'] = df_msc_filtered.apply(get_category_type, axis=1)\n\n# clean column names by keeping only last term\ndf_msc_filtered.columns = [column.split('.')[-1] for column in df_msc_filtered.columns]\ndf_msc_filtered.head()"
        }, 
        {
            "execution_count": 14, 
            "cell_type": "code", 
            "metadata": {}, 
            "outputs": [
                {
                    "execution_count": 14, 
                    "metadata": {}, 
                    "data": {
                        "text/plain": "(50, 16)"
                    }, 
                    "output_type": "execute_result"
                }
            ], 
            "source": "df_msc_filtered.shape"
        }, 
        {
            "source": "and 50 museums of Moscow, thats it: all data we need are in two dataframes: df_spb_filtered and df_msc_filtered", 
            "cell_type": "markdown", 
            "metadata": {}
        }, 
        {
            "execution_count": null, 
            "cell_type": "code", 
            "metadata": {}, 
            "outputs": [], 
            "source": ""
        }
    ], 
    "metadata": {
        "kernelspec": {
            "display_name": "Python 3.5", 
            "name": "python3", 
            "language": "python"
        }, 
        "language_info": {
            "mimetype": "text/x-python", 
            "nbconvert_exporter": "python", 
            "version": "3.5.5", 
            "name": "python", 
            "file_extension": ".py", 
            "pygments_lexer": "ipython3", 
            "codemirror_mode": {
                "version": 3, 
                "name": "ipython"
            }
        }
    }, 
    "nbformat": 4
}